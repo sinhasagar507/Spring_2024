{
 "cells": [
  {
   "cell_type": "markdown",
   "metadata": {},
   "source": [
    "# Assignment 1: Dino Fun World\n",
    "\n",
    "You, in your role as a burgeoning data explorer and visualizer, have been asked by the administrators of a small amusement park in your hometown to answer a couple questions about their park operations. In order to perform the requested analysis, they have provided you with a database containing information about one day of the park's operations.\n",
    "\n",
    "### Provided Database\n",
    "\n",
    "The database provided by the park administration is formatted to be readable by any SQL database library. The course staff recommends the sqlite3 library. The database contains three tables, named 'checkins', 'attractions', and 'sequences'. The information contained in each of these tables is listed below:\n",
    "\n",
    "`checkins`:\n",
    "    - Description: check-in data for all visitors for the day in the park. The data includes two types of check-ins, inferred and actual checkins.\n",
    "    - Fields: visitorID, timestamp, attraction, duration, type\n",
    "`attraction`:\n",
    "    - The attractions in the park by their corresponding AttractionID, Name, Region, Category, and type. Regions are from the VAST Challenge map such as Coaster Alley, Tundra Land, etc. Categories include Thrill rides, Kiddie Rides, etc. Type is broken into Outdoor Coaster, Other Ride, Carussel, etc.\n",
    "    - Fields: AttractionID, Name, Region, Category, type\n",
    "`sequences`:\n",
    "    - The check-in sequences of visitors. These sequences list the position of each visitor to the park every five minutes. If the visitor has not entered the part yet, the sequence has a value of 0 for that time interval. If the visitor is in the park, the sequence lists the attraction they have most recently checked in to until they check in to a new one or leave the park.\n",
    "    - Fields: visitorID, sequence\n",
    "    \n",
    "The database is named 'dinofunworld.db' and is located in the 'readonly' directory of the Jupyter Notebook environment. It can be accessed at 'readonly/dinofunworld.db'.\n",
    "\n",
    "### Questions to Answer\n",
    "\n",
    "The administrators would like you to answer four relatively simple questions about the park activities on the day in question. These questions all deal with park operations and can be answered using the data provided.\n",
    "\n",
    "Question 1: What is the most popular attraction to visit in the park?\n",
    "Question 2: What ride (note that not all attractions are rides) has the longest visit time?\n",
    "Question 3: Which Fast Food offering has the fewest visitors?\n",
    "Question 4: Compute the Skyline of number of visits and visit time for the park's ride and report the rides that appear in the Skyline.\n",
    "\n",
    "#### Administrative Notes\n",
    "\n",
    "This assignment will be graded by Coursera's grading system. In order for your answers to be correctly registered in the system, you must place the code for your answers in the cell indicated for each question. In addition, you should submit the assignment with the output of the code in the cell's display area. The display area should contain only your answer to the question with no extraneous information, or else the answer may not be picked up correctly. Each cell that is going to be graded has a set of comment lines at the beginning of the cell. These lines are extremely important and must not be modified or removed."
   ]
  },
  {
   "cell_type": "code",
   "execution_count": 1,
   "metadata": {},
   "outputs": [],
   "source": [
    "import sqlite3\n",
    "import pandas as pd\n",
    "import math\n",
    "import warnings\n",
    "warnings.simplefilter(action='ignore', category=FutureWarning)\n",
    "db_filename = 'dinofunworld.db'\n",
    "connection = sqlite3. connect(db_filename) \n",
    "connection_cursor= connection.cursor()"
   ]
  },
  {
   "cell_type": "code",
   "execution_count": 2,
   "metadata": {
    "scrolled": false
   },
   "outputs": [
    {
     "name": "stdout",
     "output_type": "stream",
     "text": [
      "Atmosfear\n"
     ]
    }
   ],
   "source": [
    "# Graded Cell\n",
    "# PartID:  NDnou\n",
    "# Question 1: What is the most popular attraction to visit in the park?\n",
    "# Notes: Your output should be the name of the attraction.\n",
    "sql_query = \"SELECT attraction, COUNT(*) as c FROM checkin GROUP BY attraction ORDER BY c desc;\"\n",
    "connection_cursor.execute(sql_query)\n",
    "popular_attraction_id = connection_cursor.fetchall()[0][0]\n",
    "connection_cursor.execute(\"SELECT Name FROM attraction where AttractionID = {};\".format(popular_attraction_id))\n",
    "popular_attraction = connection_cursor.fetchone()[0]\n",
    "print(popular_attraction)"
   ]
  },
  {
   "cell_type": "code",
   "execution_count": 3,
   "metadata": {},
   "outputs": [
    {
     "name": "stdout",
     "output_type": "stream",
     "text": [
      "TerrorSaur\n"
     ]
    }
   ],
   "source": [
    "# Graded Cell\n",
    "# PartID: FXGHp\n",
    "# Question 2: What ride (note that not all attractions are rides) has the longest average visit time?\n",
    "# Notes: Your output should be the name of the ride.\n",
    "checkin_df = pd.read_sql_query(\"SELECT * FROM checkin;\", connection)\n",
    "checkin_df['total_seconds'] = pd.to_timedelta(checkin_df['duration']).astype('timedelta64[s]')\n",
    "attraction_df = pd.read_sql_query(\"SELECT * FROM attraction WHERE Category LIKE '%Ride%';\", connection)\n",
    "attraction_df = attraction_df[['AttractionID','Name']]\n",
    "merge_df = checkin_df[['attraction','total_seconds']].merge(attraction_df,left_on=['attraction'],right_on=['AttractionID'])\n",
    "mean_df = merge_df.groupby('Name', as_index=False)['total_seconds'].mean()\n",
    "print(mean_df.iloc[mean_df.total_seconds.argmax()]['Name'])"
   ]
  },
  {
   "cell_type": "code",
   "execution_count": 4,
   "metadata": {},
   "outputs": [
    {
     "name": "stdout",
     "output_type": "stream",
     "text": [
      "Theresaur Food Stop\n"
     ]
    }
   ],
   "source": [
    "# Graded Cell\n",
    "# PartID: KALua\n",
    "# Question 3: Which Fast Food offering in the park has the fewest visitors?\n",
    "# Notes: Your output should be the name of the fast food offering.\n",
    "checkin_df = pd.read_sql_query(\"SELECT * FROM checkin\", connection)\n",
    "attraction_df = pd.read_sql_query(\"SELECT * FROM attraction WHERE type LIKE '%Fast Food%'\", connection)\n",
    "merge_df = checkin_df[['visitorID','attraction']].merge(attraction_df[['Name','AttractionID']],left_on=['attraction'],right_on=['AttractionID'])\n",
    "final_df = merge_df.groupby(['Name']).size().reset_index(name='counts')\n",
    "fast_food_with_fewest_visitors = final_df.iloc[final_df.counts.argmin()]['Name']\n",
    "print(fast_food_with_fewest_visitors)"
   ]
  },
  {
   "cell_type": "code",
   "execution_count": 5,
   "metadata": {},
   "outputs": [
    {
     "name": "stdout",
     "output_type": "stream",
     "text": [
      "['Wrightiraptor Mountain', 'Atmosfear', 'Dykesadactyl Thrill']\n"
     ]
    }
   ],
   "source": [
    "# Graded Cell\n",
    "# PartID: B0LUP\n",
    "# Question 4: Compute the Skyline of number of visits and visit time for the park's ride and \n",
    "#  report the rides that appear in the Skyline. \n",
    "# Notes: Remember that in this case, higher visits is better and lower visit times are better. \n",
    "#  Your output should be formatted as an array listing the names of the rides in the Skyline.\n",
    "df = pd.read_sql(\"SELECT attraction, COUNT(*) as visit_count FROM checkin WHERE attraction IN (SELECT AttractionID FROM attraction where LOWER(Category) LIKE '%ride%') GROUP BY attraction;\",connection)\n",
    "highest_visited_count = 0\n",
    "best_ride_time = math.inf\n",
    "best_both_attraction_id_list = [0,0,math.inf]\n",
    "for attraction_id in df['attraction'].tolist():\n",
    "    duration_df = pd.read_sql(\"SELECT duration FROM checkin where attraction=\"+str(attraction_id)+\";\",connection)\n",
    "    duration_df['duration'] = pd.to_timedelta(duration_df['duration']).astype('timedelta64[s]')\n",
    "    mean_duration = duration_df.mean()[0] \n",
    "    count = df.loc[df['attraction'] == attraction_id, 'visit_count'].iloc[0]\n",
    "    if count > highest_visited_count:\n",
    "        highest_visited_attraction_id = attraction_id\n",
    "        highest_visited_count = count\n",
    "    if  mean_duration < best_ride_time:\n",
    "        best_ride_time_attraction_id = attraction_id\n",
    "        best_ride_time = mean_duration\n",
    "    if count > best_both_attraction_id_list[1] and mean_duration < best_both_attraction_id_list[2]:\n",
    "        best_both_attraction_id_list = (attraction_id, count, mean_duration)\n",
    "connection_cursor.execute(\"SELECT Name FROM attraction WHERE AttractionID=\"+str(highest_visited_attraction_id)+\" OR AttractionID=\"+str(best_ride_time_attraction_id)+\" OR AttractionID=\"+str(best_both_attraction_id_list[0])+\";\")\n",
    "ride_names = connection_cursor.fetchall()\n",
    "ride_name_list = [ride_name[0] for ride_name in ride_names]\n",
    "print(ride_name_list)"
   ]
  }
 ],
 "metadata": {
  "kernelspec": {
   "display_name": "Python 3",
   "language": "python",
   "name": "python3"
  },
  "language_info": {
   "codemirror_mode": {
    "name": "ipython",
    "version": 3
   },
   "file_extension": ".py",
   "mimetype": "text/x-python",
   "name": "python",
   "nbconvert_exporter": "python",
   "pygments_lexer": "ipython3",
   "version": "3.7.4"
  }
 },
 "nbformat": 4,
 "nbformat_minor": 2
}
