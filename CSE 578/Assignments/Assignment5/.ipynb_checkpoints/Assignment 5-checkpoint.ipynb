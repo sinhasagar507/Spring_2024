{
 "cells": [
  {
   "cell_type": "markdown",
   "metadata": {},
   "source": [
    "#### Assignment 5: Geographic Data Analysis\n",
    "\n",
    "In this assignment, you will be using a database of geographic data provided for you in the PySal library to create two plots, a choropleth map and a proportional symbol map. In addition to these two plots, you will compute the value of Moran's I for this data.\n",
    "\n",
    "#### Dataset\n",
    "\n",
    "The dataset to be used in this assignment is a dataset containing Per Capita incomes for the United States' lower 48 states. In addition to the state-by-state data, the dataset contains shape files for each state that you can use\n",
    "to create the choropleth and proportional symbol maps.\n",
    "\n",
    "#### Administrative Notes\n",
    "\n",
    "This assignment will be graded by Coursera's grading system. In order for your answers to be correctly registered in the system, you must place the code for your answers in the cell indicated for each question. In addition, you should submit the assignment with the output of the code in the cell's display area. The display area should contain only your answer to the question with no extraneous information, or else the answer may not be picked up correctly. Each cell that is going to be graded has a set of comment lines at the beginning of the cell. These lines are extremely important and must not be modified or removed."
   ]
  },
  {
   "cell_type": "code",
   "execution_count": null,
   "metadata": {},
   "outputs": [],
   "source": [
    "import pandas as pd\n"
   ]
  },
  {
   "cell_type": "code",
   "execution_count": null,
   "metadata": {},
   "outputs": [],
   "source": [
    "# Graded Cell, PartID: CkcsR\n",
    "# Part 1: Using the PySal Data, create a choropleth path of the United States\n",
    "# that depicts the per capita income of each US state in 2009.\n",
    "# Notes: The PySal and GeoPandas libraries both contain utility functions that\n",
    "# may make this task easier.\n",
    "us_income = pd.read_csv(pysal.examples.get_path('usjoin.csv'))\n",
    "us_income_shape = gpd.read_file(pysal.examples.get_path('us48.shx'))"
   ]
  },
  {
   "cell_type": "code",
   "execution_count": null,
   "metadata": {},
   "outputs": [],
   "source": [
    "# Graded Cell, PartID: FqNRm\n",
    "# Part 2: Again using the PySal Data, create a proportional symbol map showing \n",
    "# a dot at the centroid of each state that is scaled to the per capita income \n",
    "# of each US state in 2009.\n",
    "# Notes: The demonstration notebook for this unit contains code that performs \n",
    "# a similar task and may be a useful reference for your assignment."
   ]
  },
  {
   "cell_type": "code",
   "execution_count": null,
   "metadata": {},
   "outputs": [],
   "source": [
    "# Graded Cell, PartID: CtQYv\n",
    "# Part 3: Using the same data, compute the value of Moran's I for the per \n",
    "# capita income of each US state in 2009 using Rook Continuity. Report the \n",
    "# value of I rounded to 4 decimal places (i.e. x.XXXX)\n",
    "# Notes: Again, the PySal and GeoPandas libraries may contain useful utility\n",
    "# functions."
   ]
  }
 ],
 "metadata": {
  "coursera": {
   "course_slug": "cse578",
   "graded_item_id": "0gqAw",
   "launcher_item_id": "h0kcM"
  },
  "kernelspec": {
   "display_name": "Python 3",
   "language": "python",
   "name": "python3"
  },
  "language_info": {
   "codemirror_mode": {
    "name": "ipython",
    "version": 3
   },
   "file_extension": ".py",
   "mimetype": "text/x-python",
   "name": "python",
   "nbconvert_exporter": "python",
   "pygments_lexer": "ipython3",
   "version": "3.7.4"
  }
 },
 "nbformat": 4,
 "nbformat_minor": 1
}
